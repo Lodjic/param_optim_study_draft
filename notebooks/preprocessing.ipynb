{
 "cells": [
  {
   "cell_type": "code",
   "execution_count": null,
   "metadata": {},
   "outputs": [],
   "source": [
    "from pathlib import Path\n",
    "import polars as pl\n",
    "import lt_lib.data.preprocessing as preprocessing\n",
    "from lt_lib.data.tiling import tile_images, tile_images_mono_process\n",
    "\n",
    "%config InlineBackend.figure_format = 'retina'\n",
    "%load_ext autoreload\n",
    "%autoreload 2"
   ]
  },
  {
   "cell_type": "code",
   "execution_count": null,
   "metadata": {},
   "outputs": [],
   "source": [
    "PROCESS_REAL_DATA = False\n",
    "PROCESS_SYNTHETIC_DATA = True"
   ]
  },
  {
   "cell_type": "markdown",
   "metadata": {},
   "source": [
    "# 1. Preprocessing real data\n",
    "## 1.1 Train-val split"
   ]
  },
  {
   "cell_type": "code",
   "execution_count": null,
   "metadata": {},
   "outputs": [],
   "source": [
    "RAW_DATA_IMG_DIR_PATH = Path(\"/content/datasets/dataset_v0/imgs\")\n",
    "\n",
    "if PROCESS_REAL_DATA:\n",
    "    preprocessing.train_val_split_and_move_rareplanes_real_img_xml_and_geojson_files(\n",
    "        imgs_dir=RAW_DATA_IMG_DIR_PATH,\n",
    "        imgs_extension=\".png\",\n",
    "        val_fraction=0.2,\n",
    "        seed=42,\n",
    "    )"
   ]
  },
  {
   "cell_type": "markdown",
   "metadata": {},
   "source": [
    "## 1.2 Gather all annotations in one gts.csv file for each real dataset (train-val-test)"
   ]
  },
  {
   "cell_type": "code",
   "execution_count": null,
   "metadata": {},
   "outputs": [],
   "source": [
    "REAL_DATA_ROOT_DIR_PATH = Path(\"/content/datasets/dataset_v0\")\n",
    "\n",
    "if PROCESS_REAL_DATA:\n",
    "    _, _ = preprocessing.get_all_annotations_from_rareplanes_geojsons(\n",
    "        root_dir_path = REAL_DATA_ROOT_DIR_PATH / \"train\",\n",
    "        tiled_version = True,\n",
    "        imgs_extension=\".png\",\n",
    "        save_to_file = True,\n",
    "    )\n",
    "\n",
    "    _, _ = preprocessing.get_all_annotations_from_rareplanes_geojsons(\n",
    "        root_dir_path = REAL_DATA_ROOT_DIR_PATH / \"val\",\n",
    "        tiled_version = True,\n",
    "        imgs_extension=\".png\",\n",
    "        save_to_file = True,\n",
    "    )\n",
    "\n",
    "    _, _ = preprocessing.get_all_annotations_from_rareplanes_geojsons(\n",
    "        root_dir_path = REAL_DATA_ROOT_DIR_PATH / \"test\",\n",
    "        tiled_version = True,\n",
    "        imgs_extension=\".png\",\n",
    "        save_to_file = True,\n",
    "    )"
   ]
  },
  {
   "cell_type": "markdown",
   "metadata": {},
   "source": [
    "# 2. Preprocessing synthetic data\n",
    "## 2.1 Copy fraction of the train synthetic data"
   ]
  },
  {
   "cell_type": "code",
   "execution_count": null,
   "metadata": {},
   "outputs": [],
   "source": [
    "RAW_DATA_IMG_DIR_PATH = Path(\"/Volumes/Maxtor-Loic/Loïc/4-KTH/2023-2024/Master Thesis/Datasets/RarePlanes/synthetic/imgs\")\n",
    "\n",
    "if PROCESS_SYNTHETIC_DATA:\n",
    "    preprocessing.copy_fraction_of_random_rareplanes_synthetic_img_and_xml_files(\n",
    "        imgs_dir=RAW_DATA_IMG_DIR_PATH,\n",
    "        imgs_extension=\".png\",\n",
    "        fraction_to_copy=0.1,\n",
    "        seed=42,\n",
    "    )"
   ]
  },
  {
   "cell_type": "markdown",
   "metadata": {},
   "source": [
    "## 2.2 Gather all annotations in one gts.csv"
   ]
  },
  {
   "cell_type": "code",
   "execution_count": null,
   "metadata": {},
   "outputs": [],
   "source": [
    "SYNTHETIC_ANNOTATIONS_DIR_PATH = Path(\"/content/datasets/synthetic_data_sampled_10percent_seed42/annotations\")\n",
    "\n",
    "if PROCESS_SYNTHETIC_DATA:\n",
    "    _ = preprocessing.get_all_synthetic_gts_from_rareplanes_xmls(\n",
    "        annotations_dir_path = SYNTHETIC_ANNOTATIONS_DIR_PATH,\n",
    "        imgs_extension=\".png\",\n",
    "        clip=True,\n",
    "        save_to_file=True,\n",
    "    )"
   ]
  },
  {
   "cell_type": "markdown",
   "metadata": {},
   "source": [
    "## 2.3 Tiles images from a directory"
   ]
  },
  {
   "cell_type": "code",
   "execution_count": null,
   "metadata": {},
   "outputs": [],
   "source": [
    "ROOT_BASE_DATA_DIR_PATH = Path(\"/content/datasets/synthetic_data_sampled_10percent_seed42\")\n",
    "TILING_TYPE = \"grid_tiling\"\n",
    "TILING_ARGS = {\n",
    "    \"tile_shape\": 512,\n",
    "    \"overlap\": 32,\n",
    "    \"min_bbox_area_on_tile\": 0.2,\n",
    "    \"clip_boxes\": True,\n",
    "    \"png_compression_level\": 3,\n",
    "}\n",
    "\n",
    "if PROCESS_SYNTHETIC_DATA:\n",
    "    tile_images(\n",
    "        root_data_dir=ROOT_BASE_DATA_DIR_PATH,\n",
    "        tiling_type=TILING_TYPE,\n",
    "        tiling_args=TILING_ARGS,\n",
    "        images_extension=\".png\",\n",
    "        processes=4,\n",
    "        chunksize=1,\n",
    "    )"
   ]
  },
  {
   "cell_type": "markdown",
   "metadata": {},
   "source": [
    "## 2.4 Copy a nb of tiles from tiled data"
   ]
  },
  {
   "cell_type": "code",
   "execution_count": null,
   "metadata": {},
   "outputs": [],
   "source": [
    "ROOT_TILED_DATA_DIR_PATH = Path(\"/content/datasets/synthetic_data_sampled_10percent_seed42/tiled_dataset\")\n",
    "\n",
    "if PROCESS_SYNTHETIC_DATA:\n",
    "    preprocessing.copy_nb_of_random_rareplanes_synthetic_tile_and_gts_files(\n",
    "        root_data_dir=ROOT_TILED_DATA_DIR_PATH,\n",
    "        imgs_extension=\".png\",\n",
    "        select_nb=4500,\n",
    "        seed=42\n",
    "    )"
   ]
  },
  {
   "cell_type": "markdown",
   "metadata": {},
   "source": [
    "## 2.5 Adjust labels based on wingspan value"
   ]
  },
  {
   "cell_type": "code",
   "execution_count": null,
   "metadata": {},
   "outputs": [],
   "source": [
    "GTS_WITH_WINGSPAN_PATH = Path(\"/content/datasets/synthetic_data_sampled_10percent_seed42/annotations/gts_with_wingspan.csv\")\n",
    "GTS_TO_ADJUST_PATH = Path(\"/content/datasets/synthetic_data_sampled_10percent_seed42/tiled_dataset/sampled_synthetic_tiled_data/annotations/gts.csv\")\n",
    "\n",
    "preprocessing.adjust_labels_base_on_wingspan(\n",
    "    gts_with_wingspan_path= GTS_WITH_WINGSPAN_PATH,\n",
    "    gts_to_adjust_path=GTS_TO_ADJUST_PATH,\n",
    "    wingspan_label_bins=[0,14,36],\n",
    "    save_to_file=True,\n",
    ")"
   ]
  }
 ],
 "metadata": {
  "kernelspec": {
   "display_name": "master-thesis-draft-KyEbAffr-py3.11",
   "language": "python",
   "name": "python3"
  },
  "language_info": {
   "codemirror_mode": {
    "name": "ipython",
    "version": 3
   },
   "file_extension": ".py",
   "mimetype": "text/x-python",
   "name": "python",
   "nbconvert_exporter": "python",
   "pygments_lexer": "ipython3",
   "version": "3.11.7"
  }
 },
 "nbformat": 4,
 "nbformat_minor": 2
}
