{
 "cells": [
  {
   "cell_type": "markdown",
   "metadata": {},
   "source": [
    "# 1. Setup and imports"
   ]
  },
  {
   "cell_type": "markdown",
   "metadata": {},
   "source": [
    "## 1.1 Imports"
   ]
  },
  {
   "cell_type": "code",
   "execution_count": null,
   "metadata": {},
   "outputs": [],
   "source": [
    "import torch\n",
    "from IPython import display\n",
    "\n",
    "print(f\"GPU device is available : {torch.cuda.is_available()}\")\n",
    "torch_device = torch.device('cuda:0' if torch.cuda.is_available() else 'cpu')\n",
    "\n",
    "%config InlineBackend.figure_format = 'retina'\n",
    "%load_ext autoreload\n",
    "%autoreload 2"
   ]
  },
  {
   "cell_type": "markdown",
   "metadata": {},
   "source": [
    "## 1.2 Setup variables + installing missing libraries for Colab"
   ]
  },
  {
   "cell_type": "code",
   "execution_count": null,
   "metadata": {},
   "outputs": [],
   "source": [
    "try:\n",
    "    from google.colab import drive\n",
    "    # Mount drive to access to data\n",
    "    drive.mount('/content/drive')\n",
    "    import sys\n",
    "    sys.path.insert(1,'/content/drive/MyDrive/Colab_notebooks/Master_thesis/code_base/')\n",
    "    !mkdir /content/configs\n",
    "    !cp /content/drive/MyDrive/Colab_notebooks/Master_thesis/code_base/configs_template/model_config_template.yaml /content/configs/model_config.yaml\n",
    "    !cp /content/drive/MyDrive/Colab_notebooks/Master_thesis/code_base/configs_template/full_config_template.yaml /content/configs/full_config.yaml\n",
    "    !pip install loguru\n",
    "    !pip install ruamel.yaml\n",
    "    !pip install wandb\n",
    "    !pip install ray==2.9.3\n",
    "    !pip install optuna\n",
    "    display.clear_output()\n",
    "    IN_COLAB = True\n",
    "except:\n",
    "    IN_COLAB = False\n",
    "\n",
    "if not IN_COLAB:\n",
    "  try:\n",
    "      import kaggle\n",
    "  except OSError:\n",
    "      import sys\n",
    "      sys.path.insert(1,'/kaggle/input/code-base/code_base/')\n",
    "      !mkdir /kaggle/working/configs\n",
    "      !cp /kaggle/input/configs/model_config.yaml /kaggle/working/configs/model_config.yaml\n",
    "      !cp /kaggle/input/configs/full_config.yaml /kaggle/working/configs/full_config.yaml\n",
    "      IN_KAGGLE = True\n",
    "  except:\n",
    "      IN_KAGGLE = False\n",
    "else:\n",
    "  IN_KAGGLE = False\n",
    "\n",
    "if IN_COLAB:\n",
    "    !unzip /content/drive/MyDrive/data/dataset_v1.zip -d .\n",
    "    !rm -rf __MACOSX/\n",
    "    display.clear_output()\n",
    "    INPUTS_DIR = \"/content/dataset_v1\"\n",
    "    OUTPUTS_DIR = \"/content/outputs\"\n",
    "    # To verify that there is an access to the GPU\n",
    "    !nvidia-smi\n",
    "elif IN_KAGGLE:\n",
    "    INPUTS_DIR = \"/kaggle/input/dataset-v1/dataset_v1\"\n",
    "    OUTPUTS_DIR = \"/kaggle/working/outputs\"\n",
    "    # To verify that there is an access to the GPU\n",
    "    !nvidia-smi \n",
    "else:\n",
    "    INPUTS_DIR = \"/content/datasets/dataset_test\"\n",
    "    OUTPUTS_DIR = \"/content/outputs/outputs_test\"\n",
    "\n",
    "import wandb\n",
    "from lt_lib.entrypoints.run import run, RunCliArgs"
   ]
  },
  {
   "cell_type": "markdown",
   "metadata": {},
   "source": [
    "## 1.3 Setup wandb"
   ]
  },
  {
   "cell_type": "code",
   "execution_count": null,
   "metadata": {},
   "outputs": [],
   "source": [
    "if IN_COLAB:\n",
    "    !wandb login\n",
    "if IN_KAGGLE:\n",
    "    wandb.login(key)"
   ]
  },
  {
   "cell_type": "markdown",
   "metadata": {},
   "source": [
    "# 2. Run"
   ]
  },
  {
   "cell_type": "code",
   "execution_count": null,
   "metadata": {},
   "outputs": [],
   "source": [
    "USE_WANDB = False\n",
    "\n",
    "args = RunCliArgs(\n",
    "    inputs_directory=INPUTS_DIR,\n",
    "    outputs_directory=OUTPUTS_DIR,\n",
    "    model_config_path=\"../configs/model_config.yaml\",\n",
    "    config_path=\"../configs/train_config.yaml\",\n",
    "    use_wandb=USE_WANDB,\n",
    "    console_log_level=\"DEBUG\",\n",
    ")\n",
    "\n",
    "run(args)"
   ]
  }
 ],
 "metadata": {
  "kernelspec": {
   "display_name": "master-thesis-draft-KyEbAffr-py3.11",
   "language": "python",
   "name": "python3"
  },
  "language_info": {
   "codemirror_mode": {
    "name": "ipython",
    "version": 3
   },
   "file_extension": ".py",
   "mimetype": "text/x-python",
   "name": "python",
   "nbconvert_exporter": "python",
   "pygments_lexer": "ipython3",
   "version": "3.11.7"
  }
 },
 "nbformat": 4,
 "nbformat_minor": 2
}
