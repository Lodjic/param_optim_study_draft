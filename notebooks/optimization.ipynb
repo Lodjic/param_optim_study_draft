{
 "cells": [
  {
   "cell_type": "markdown",
   "metadata": {},
   "source": [
    "# 1. Setup and imports"
   ]
  },
  {
   "cell_type": "markdown",
   "metadata": {},
   "source": [
    "## 1.1 Imports"
   ]
  },
  {
   "cell_type": "code",
   "execution_count": null,
   "metadata": {},
   "outputs": [],
   "source": [
    "import shutil\n",
    "import torch\n",
    "\n",
    "from IPython import display\n",
    "from pathlib import Path\n",
    "\n",
    "print(f\"GPU device is available : {torch.cuda.is_available()}\")\n",
    "torch_device = torch.device('cuda:0' if torch.cuda.is_available() else 'cpu')\n",
    "\n",
    "%config InlineBackend.figure_format = 'retina'\n",
    "%load_ext autoreload\n",
    "%autoreload 2"
   ]
  },
  {
   "cell_type": "markdown",
   "metadata": {},
   "source": [
    "## 1.2 Setup variables + installing missing libraries for Colab"
   ]
  },
  {
   "cell_type": "code",
   "execution_count": null,
   "metadata": {},
   "outputs": [],
   "source": [
    "try:\n",
    "    from google.colab import drive\n",
    "    # Mount drive to access to data\n",
    "    drive.mount('/content/drive')\n",
    "    import sys\n",
    "    !mkdir /content/configs\n",
    "    !cp /content/drive/MyDrive/Colab_notebooks/Master_thesis/code_base/configs_template/model_config_template.yaml /content/configs/model_config.yaml\n",
    "    !cp /content/drive/MyDrive/Colab_notebooks/Master_thesis/code_base/configs_template/full_config_template.yaml /content/configs/full_config.yaml\n",
    "    !cp /content/drive/MyDrive/Colab_notebooks/Master_thesis/code_base/configs_template/optimization_config_template.py /content/configs/optimization_config.py\n",
    "    !cp -r /content/drive/MyDrive/Colab_notebooks/Master_thesis/code_base/lt_lib/ /content/lt_lib/\n",
    "    sys.path.append('/content/lt_lib/')\n",
    "    !pip install loguru\n",
    "    !pip install ruamel.yaml\n",
    "    !pip install wandb\n",
    "    !pip install ray==2.9.3\n",
    "    !pip install optuna\n",
    "    display.clear_output()\n",
    "    IN_COLAB = True\n",
    "except:\n",
    "    IN_COLAB = False\n",
    "\n",
    "if not IN_COLAB:\n",
    "  try:\n",
    "        import kaggle\n",
    "  except OSError:\n",
    "        import sys\n",
    "        sys.path.insert(1,'/kaggle/input/code-base/code_base/lt_lib/')\n",
    "        !mkdir /kaggle/working/configs\n",
    "        !cp /kaggle/input/configs/model_config.yaml /kaggle/working/configs/model_config.yaml\n",
    "        !cp /kaggle/input/configs/full_config.yaml /kaggle/working/configs/full_config.yaml\n",
    "        !cp /kaggle/input/configs/optimization_config.py /kaggle/working/configs/optimization_config.py\n",
    "        IN_KAGGLE = True\n",
    "  except:\n",
    "        IN_KAGGLE = False\n",
    "else:\n",
    "    IN_KAGGLE = False\n",
    "\n",
    "if IN_COLAB:\n",
    "    !unzip /content/drive/MyDrive/data/dataset_v1.zip -d .\n",
    "    !rm -rf __MACOSX/\n",
    "    display.clear_output()\n",
    "    INPUTS_DIR = \"/content/dataset_v1\"\n",
    "    OUTPUTS_DIR = \"/content/outputs_optim\"\n",
    "    # To verify that there is an access to the GPU\n",
    "    !nvidia-smi\n",
    "elif IN_KAGGLE:\n",
    "    INPUTS_DIR = \"/kaggle/input/dataset-v1/dataset_v1\"\n",
    "    OUTPUTS_DIR = \"/kaggle/working/outputs_optim\"\n",
    "    # To verify that there is an access to the GPU\n",
    "    !nvidia-smi \n",
    "else:\n",
    "    INPUTS_DIR = \"/content/datasets/dataset_test\"\n",
    "    OUTPUTS_DIR = \"/content/outputs/outputs_test_optim\"\n",
    "\n",
    "import wandb\n",
    "from lt_lib.entrypoints.optimization import optimization, OptimizationCliArgs"
   ]
  },
  {
   "cell_type": "markdown",
   "metadata": {},
   "source": [
    "## 1.3 Setup wandb"
   ]
  },
  {
   "cell_type": "code",
   "execution_count": null,
   "metadata": {},
   "outputs": [],
   "source": [
    "if IN_COLAB:\n",
    "    !wandb login\n",
    "if IN_KAGGLE:\n",
    "    wandb.login(key)"
   ]
  },
  {
   "cell_type": "markdown",
   "metadata": {},
   "source": [
    "# 2. Mono-run"
   ]
  },
  {
   "cell_type": "code",
   "execution_count": null,
   "metadata": {},
   "outputs": [],
   "source": [
    "if IN_COLAB:\n",
    "    !mkdir ray_results\n",
    "    !unzip /content/drive/MyDrive/data/experiment-seed0_2024-04-09_15-59-06.zip -d ray_results/experiment-seed0_2024-04-09_15-59-06"
   ]
  },
  {
   "cell_type": "code",
   "execution_count": null,
   "metadata": {},
   "outputs": [],
   "source": [
    "if IN_COLAB:\n",
    "    !rm -r /content/ray_results/experiment-seed0_2024-04-09_15-59-06/trial_2024-04-09_16-33-27_5d8b84b4"
   ]
  },
  {
   "cell_type": "code",
   "execution_count": null,
   "metadata": {},
   "outputs": [],
   "source": [
    "USE_WANDB = False\n",
    "\n",
    "args = OptimizationCliArgs(\n",
    "    inputs_directory=INPUTS_DIR,\n",
    "    outputs_directory=OUTPUTS_DIR,\n",
    "    model_config_path=\"/content/configs/model_config.yaml\",\n",
    "    config_path=\"/content/configs/train_config.yaml\",\n",
    "    optimization_config_path=\"/content/configs/optimization_config.py\",\n",
    "    use_wandb_ray_integration=USE_WANDB,\n",
    "    restore_dir_path=\"\",\n",
    "    console_log_level=\"DEBUG\",\n",
    ")\n",
    "\n",
    "optimization(args)"
   ]
  },
  {
   "cell_type": "code",
   "execution_count": null,
   "metadata": {},
   "outputs": [],
   "source": [
    "if IN_COLAB:\n",
    "    !zip -r /content/ray_results.zip ray_results/"
   ]
  },
  {
   "cell_type": "code",
   "execution_count": null,
   "metadata": {},
   "outputs": [],
   "source": [
    "if IN_COLAB:\n",
    "    !rm -r /content/outputs_optim\n",
    "    !rm -r /content/ray_results.zip\n",
    "    !rm -r /content/ray_results"
   ]
  },
  {
   "cell_type": "markdown",
   "metadata": {},
   "source": [
    "# 3. Many-runs\n",
    "## 3.1 Duplicate and modify config files"
   ]
  },
  {
   "cell_type": "code",
   "execution_count": null,
   "metadata": {},
   "outputs": [],
   "source": [
    "NB_CONFIG = 10\n",
    "CONFIG_PATH = Path(\"/content/configs/optimization_config.py\")\n",
    "MODIFY_PARAM = True\n",
    "\n",
    "for k in range(NB_CONFIG):\n",
    "    config_copy_path = CONFIG_PATH.parent / f\"{CONFIG_PATH.name.split('.')[0]}-{k}{CONFIG_PATH.suffix}\"\n",
    "    shutil.copy2(CONFIG_PATH, config_copy_path)\n",
    "    \n",
    "    if MODIFY_PARAM:\n",
    "        file_content = \"\"\n",
    "        with open(config_copy_path, \"r\") as f:\n",
    "            file_content = f.read()\n",
    "        file_content = file_content.replace(\"random_seed = 0\", f\"random_seed = {k}\")\n",
    "        with open(config_copy_path, \"w\") as f:\n",
    "            f.write(file_content)"
   ]
  },
  {
   "cell_type": "code",
   "execution_count": null,
   "metadata": {},
   "outputs": [],
   "source": [
    "FILES_ROOT_DIR = Path(\"/content/configs\")\n",
    "MODIFY_CONFIGS = False\n",
    "\n",
    "if MODIFY_CONFIGS:\n",
    "    for file_path in FILES_ROOT_DIR.glob(\"*optimization*\"):\n",
    "        file_content = \"\"\n",
    "        with open(file_path, \"r\") as f:\n",
    "            file_content = f.read()\n",
    "        file_content = file_content.replace(\"num_samples=5\", \"num_samples=10\")\n",
    "        with open(file_path, \"w\") as f:\n",
    "            f.write(file_content)"
   ]
  },
  {
   "cell_type": "markdown",
   "metadata": {},
   "source": [
    "## 3.2 Many-optimizations"
   ]
  },
  {
   "cell_type": "code",
   "execution_count": null,
   "metadata": {},
   "outputs": [],
   "source": [
    "USE_WANDB = False\n",
    "NB_CONFIG = 10\n",
    "\n",
    "for k in range(NB_CONFIG):\n",
    "    args = OptimizationCliArgs(\n",
    "        inputs_directory=INPUTS_DIR,\n",
    "        outputs_directory=OUTPUTS_DIR,\n",
    "        model_config_path=f\"/content/configs/model_config.yaml\",\n",
    "        config_path=f\"/content/configs/train_config.yaml\",\n",
    "        optimization_config_path=f\"/content/configs/optimization_config-{k}.py\",\n",
    "        use_wandb_ray_integration=USE_WANDB,\n",
    "        restore_dir_path=\"\",\n",
    "        console_log_level=\"WARNING\",\n",
    "    )\n",
    "\n",
    "    optimization(args)"
   ]
  },
  {
   "cell_type": "code",
   "execution_count": null,
   "metadata": {},
   "outputs": [],
   "source": [
    "if IN_COLAB:\n",
    "    !zip -r /content/ray_results.zip ray_results"
   ]
  },
  {
   "cell_type": "code",
   "execution_count": null,
   "metadata": {},
   "outputs": [],
   "source": [
    "if IN_COLAB:\n",
    "    !rm -r /content/outputs_optim\n",
    "    !rm -r /content/ray_results.zip\n",
    "    !rm -r /content/ray_results"
   ]
  }
 ],
 "metadata": {
  "kernelspec": {
   "display_name": "master-thesis-draft-KyEbAffr-py3.11",
   "language": "python",
   "name": "python3"
  },
  "language_info": {
   "codemirror_mode": {
    "name": "ipython",
    "version": 3
   },
   "file_extension": ".py",
   "mimetype": "text/x-python",
   "name": "python",
   "nbconvert_exporter": "python",
   "pygments_lexer": "ipython3",
   "version": "3.11.7"
  }
 },
 "nbformat": 4,
 "nbformat_minor": 2
}
