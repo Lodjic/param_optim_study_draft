{
 "cells": [
  {
   "cell_type": "markdown",
   "metadata": {},
   "source": [
    "# 1. Definition\n",
    "## 1.1 Imports"
   ]
  },
  {
   "cell_type": "code",
   "execution_count": null,
   "metadata": {},
   "outputs": [],
   "source": [
    "from pathlib import Path\n",
    "import polars as pl\n",
    "\n",
    "from lt_lib.viz.plot_utils import plot_plt_bar\n",
    "\n",
    "%load_ext autoreload\n",
    "%autoreload 2\n",
    "%config InlineBackend.figure_format='retina'"
   ]
  },
  {
   "cell_type": "markdown",
   "metadata": {},
   "source": [
    "# 2. Load and process saved experiment"
   ]
  },
  {
   "cell_type": "code",
   "execution_count": null,
   "metadata": {},
   "outputs": [],
   "source": [
    "DATASET_ROOT_DIR = Path(\"/content/datasets/dataset_v1\")\n",
    "\n",
    "images_csv = pl.read_csv(DATASET_ROOT_DIR / \"image_count.csv\")\n",
    "bboxes_csv = pl.read_csv(DATASET_ROOT_DIR / \"bbox_count.csv\")"
   ]
  },
  {
   "cell_type": "code",
   "execution_count": null,
   "metadata": {},
   "outputs": [],
   "source": [
    "plot_plt_bar(\n",
    "    bboxes_csv, \n",
    "    x=[\"plane-civil-small\", \"plane-civil-medium\", \"plane-civil-large\"], \n",
    "    group=\"dataset_type\",\n",
    "    x_label=\"Classes\",\n",
    "    y_label=\"Nb of bounding box\"\n",
    ")"
   ]
  }
 ],
 "metadata": {
  "kernelspec": {
   "display_name": "lt-lib-Jc5mrXZA-py3.11",
   "language": "python",
   "name": "python3"
  },
  "language_info": {
   "codemirror_mode": {
    "name": "ipython",
    "version": 3
   },
   "file_extension": ".py",
   "mimetype": "text/x-python",
   "name": "python",
   "nbconvert_exporter": "python",
   "pygments_lexer": "ipython3",
   "version": "3.11.7"
  }
 },
 "nbformat": 4,
 "nbformat_minor": 2
}
