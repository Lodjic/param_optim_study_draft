{
 "cells": [
  {
   "cell_type": "markdown",
   "metadata": {},
   "source": [
    "# 1. Definition\n",
    "## 1.1 Imports"
   ]
  },
  {
   "cell_type": "code",
   "execution_count": null,
   "metadata": {},
   "outputs": [],
   "source": [
    "from pathlib import Path\n",
    "import polars as pl\n",
    "\n",
    "from lt_lib.viz.experiment_viz_utils import (\n",
    "    get_result_grid, \n",
    "    filter_df_with_dict, \n",
    "    rename_config_params_column_name, \n",
    "    keep_non_dominated_points, \n",
    ")\n",
    "from lt_lib.viz.plot_utils import plot_px_line\n",
    "\n",
    "%load_ext autoreload\n",
    "%autoreload 2\n",
    "%config InlineBackend.figure_format='retina'"
   ]
  },
  {
   "cell_type": "markdown",
   "metadata": {},
   "source": [
    "# 2. Load saved experiment"
   ]
  },
  {
   "cell_type": "code",
   "execution_count": null,
   "metadata": {},
   "outputs": [],
   "source": [
    "experiment_path = Path(\"expriement\")\n",
    "results = get_result_grid(experiment_path)\n",
    "all_trials_df = pl.from_pandas(results.get_dataframe()).with_row_index(\"id\")\n",
    "all_trials_df = rename_config_params_column_name(all_trials_df)"
   ]
  },
  {
   "cell_type": "code",
   "execution_count": null,
   "metadata": {},
   "outputs": [],
   "source": [
    "results.get_best_result(\"custom_metrics.super_metric\", \"max\").metrics_dataframe[\"custom_metrics.super_metric\"]"
   ]
  },
  {
   "cell_type": "markdown",
   "metadata": {},
   "source": [
    "# 3. Visualization"
   ]
  },
  {
   "cell_type": "code",
   "execution_count": null,
   "metadata": {},
   "outputs": [],
   "source": [
    "X = \"level1.recall\"\n",
    "Y = \"level1.f1\"\n",
    "GROUP = \"config/nms_iou_threshold\"\n",
    "# ADDITIONAL_HOVER_DATA = [\"config/threshold\"]\n",
    "ADDITIONAL_HOVER_DATA = [\"level1.f1\", \"custom_metrics.super_metric\", \"config/nms_iou_threshold\"]\n",
    "# ADDITIONAL_HOVER_DATA = [\"level1.f1\", \"config/plane-civilSmall\", \"config/plane-civilMedium\", \"config/plane-civilLarge\"]"
   ]
  },
  {
   "cell_type": "markdown",
   "metadata": {},
   "source": [
    "## 3.1 All-trials viz\n",
    "### 3.1.1 All points"
   ]
  },
  {
   "cell_type": "code",
   "execution_count": null,
   "metadata": {},
   "outputs": [],
   "source": [
    "all_trials_df.head()"
   ]
  },
  {
   "cell_type": "code",
   "execution_count": null,
   "metadata": {},
   "outputs": [],
   "source": [
    "plot_px_line(\n",
    "    all_trials_df.sort([GROUP, Y], descending=[True, False]), \n",
    "    x=X,\n",
    "    y=Y,\n",
    "    line_group=GROUP,\n",
    "    color=GROUP,\n",
    "    markers=True,\n",
    "    hover_data=[X, Y, GROUP, *ADDITIONAL_HOVER_DATA],\n",
    "    x_label=\"Recall (lvl1)\",\n",
    "    y_label=\"Precision (lvl1)\",\n",
    "    title=\"Precsion-recall graph\"\n",
    ")"
   ]
  },
  {
   "cell_type": "markdown",
   "metadata": {},
   "source": [
    "### 3.1.2 Non-dominated points"
   ]
  },
  {
   "cell_type": "code",
   "execution_count": null,
   "metadata": {},
   "outputs": [],
   "source": [
    "all_trials_nd_df = keep_non_dominated_points(all_trials_df, [X, Y])\n",
    "\n",
    "plot_px_line(\n",
    "    all_trials_nd_df.sort([GROUP, Y], descending=[True, False]), \n",
    "    x=X,\n",
    "    y=Y,\n",
    "    line_group=GROUP,\n",
    "    color=GROUP,\n",
    "    markers=True,\n",
    "    hover_data=[X, Y, GROUP, *ADDITIONAL_HOVER_DATA],\n",
    "    x_label=\"Recall (lvl1)\",\n",
    "    y_label=\"Precision (lvl1)\",\n",
    "    title=\"Precsion-recall graph\"\n",
    ")"
   ]
  },
  {
   "cell_type": "markdown",
   "metadata": {},
   "source": [
    "## 3.2 Filtering trials with regression for fine-grain viz\n",
    "### 3.2.1 Filtering operation"
   ]
  },
  {
   "cell_type": "code",
   "execution_count": null,
   "metadata": {},
   "outputs": [],
   "source": [
    "MIN_VAL_FILTERING_DICT = {\n",
    "    \"level1.recall\": 0.9, \n",
    "    \"level1.precision\":0.9,\n",
    "}\n",
    "\n",
    "filtered_df = filter_df_with_dict(all_trials_df, MIN_VAL_FILTERING_DICT)"
   ]
  },
  {
   "cell_type": "code",
   "execution_count": null,
   "metadata": {},
   "outputs": [],
   "source": [
    "filtered_df.head()"
   ]
  },
  {
   "cell_type": "markdown",
   "metadata": {},
   "source": [
    "### 3.2.2 All points"
   ]
  },
  {
   "cell_type": "code",
   "execution_count": null,
   "metadata": {},
   "outputs": [],
   "source": [
    "plot_px_line(\n",
    "    filtered_df.sort([GROUP, Y], descending=[True, False]), \n",
    "    x=X,\n",
    "    y=Y,\n",
    "    line_group=GROUP,\n",
    "    color=GROUP,\n",
    "    markers=True,\n",
    "    hover_data=[X, Y, GROUP, *ADDITIONAL_HOVER_DATA],\n",
    "    x_label=\"Recall (lvl1)\",\n",
    "    y_label=\"Precision (lvl1)\",\n",
    "    title=\"Precsion-recall graph\"\n",
    ")"
   ]
  },
  {
   "cell_type": "markdown",
   "metadata": {},
   "source": [
    "### 3.2.3 Non-dominated points"
   ]
  },
  {
   "cell_type": "code",
   "execution_count": null,
   "metadata": {},
   "outputs": [],
   "source": [
    "filtered_nd_df = keep_non_dominated_points(filtered_df, [X, Y])\n",
    "\n",
    "plot_px_line(\n",
    "    filtered_nd_df.sort([GROUP, Y], descending=[True, False]), \n",
    "    x=X,\n",
    "    y=Y,\n",
    "    line_group=GROUP,\n",
    "    color=GROUP,\n",
    "    markers=True,\n",
    "    hover_data=[X, Y, GROUP, *ADDITIONAL_HOVER_DATA],\n",
    "    x_label=\"Recall (lvl1)\",\n",
    "    y_label=\"Precision (lvl1)\",\n",
    "    title=\"Precsion-recall graph\"\n",
    ")"
   ]
  }
 ],
 "metadata": {
  "kernelspec": {
   "display_name": "lt-lib-Jc5mrXZA-py3.11",
   "language": "python",
   "name": "python3"
  },
  "language_info": {
   "codemirror_mode": {
    "name": "ipython",
    "version": 3
   },
   "file_extension": ".py",
   "mimetype": "text/x-python",
   "name": "python",
   "nbconvert_exporter": "python",
   "pygments_lexer": "ipython3",
   "version": "3.11.7"
  }
 },
 "nbformat": 4,
 "nbformat_minor": 2
}
