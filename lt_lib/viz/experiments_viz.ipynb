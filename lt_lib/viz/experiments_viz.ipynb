{
 "cells": [
  {
   "cell_type": "markdown",
   "metadata": {},
   "source": [
    "# 1. Definition\n",
    "## 1.1 Imports"
   ]
  },
  {
   "cell_type": "code",
   "execution_count": null,
   "metadata": {},
   "outputs": [],
   "source": [
    "from pathlib import Path\n",
    "import polars as pl\n",
    "\n",
    "from lt_lib.viz.experiment_viz_utils import (\n",
    "    get_best_results_from_ray_results_root_dir,\n",
    "    compute_mean_and_error_bars,\n",
    "    print_best_results_config_params_mean_value,\n",
    ")\n",
    "from lt_lib.viz.plot_utils import plot_plt_line\n",
    "\n",
    "%load_ext autoreload\n",
    "%autoreload 2\n",
    "%config InlineBackend.figure_format='retina'"
   ]
  },
  {
   "cell_type": "markdown",
   "metadata": {},
   "source": [
    "# 2. Load and process saved experiment"
   ]
  },
  {
   "cell_type": "code",
   "execution_count": null,
   "metadata": {},
   "outputs": [],
   "source": [
    "EXPERIMENTS_ROOT_DIR = Path(\"experiment/root_dir\")\n",
    "\n",
    "best_results = get_best_results_from_ray_results_root_dir(\n",
    "    ray_results_root_dir=EXPERIMENTS_ROOT_DIR, \n",
    "    metric=\"custom_metrics.super_metric\", \n",
    "    mode=\"max\",\n",
    ")"
   ]
  },
  {
   "cell_type": "code",
   "execution_count": null,
   "metadata": {},
   "outputs": [],
   "source": [
    "METRIC_TO_PLOT = \"custom_metrics.super_metric\"\n",
    "CONFIDENCE_INTERVAL_THRESHOLD = 0.95\n",
    "\n",
    "best_results_minimal_df = best_results.select([\"algorithm\", \"n_trials\", METRIC_TO_PLOT])\n",
    "best_results_for_plotting = compute_mean_and_error_bars(\n",
    "    best_results_minimal_df, \n",
    "    group_by=[\"algorithm\", \"n_trials\"],\n",
    "    column_to_aggregate=METRIC_TO_PLOT,\n",
    "    confidence_interval_threshold=CONFIDENCE_INTERVAL_THRESHOLD\n",
    ")"
   ]
  },
  {
   "cell_type": "markdown",
   "metadata": {},
   "source": [
    "# 3. Visualization"
   ]
  },
  {
   "cell_type": "code",
   "execution_count": null,
   "metadata": {},
   "outputs": [],
   "source": [
    "X = \"n_trials\"\n",
    "Y = \"mean\"\n",
    "ERROR_Y = \"half_conf\"\n",
    "ERROR_Y_LOWER = \"lower_conf\"\n",
    "ERROR_Y_UPPER = \"upper_conf\"\n",
    "GROUP = \"algorithm\"\n",
    "\n",
    "plot_plt_line(\n",
    "    df=best_results_for_plotting,\n",
    "    x=X,\n",
    "    y=Y,\n",
    "    group=GROUP,\n",
    "    yerr=ERROR_Y,\n",
    "    yerr_lower=ERROR_Y_LOWER,\n",
    "    yerr_upper=ERROR_Y_UPPER,\n",
    "    x_label=\"Number of trials\",\n",
    "    y_label=\"Super metric\",\n",
    ")"
   ]
  },
  {
   "cell_type": "code",
   "execution_count": null,
   "metadata": {},
   "outputs": [],
   "source": [
    "print_best_results_config_params_mean_value(best_results, \"TPE\", 300)"
   ]
  }
 ],
 "metadata": {
  "kernelspec": {
   "display_name": "lt-lib-Jc5mrXZA-py3.11",
   "language": "python",
   "name": "python3"
  },
  "language_info": {
   "codemirror_mode": {
    "name": "ipython",
    "version": 3
   },
   "file_extension": ".py",
   "mimetype": "text/x-python",
   "name": "python",
   "nbconvert_exporter": "python",
   "pygments_lexer": "ipython3",
   "version": "3.11.7"
  }
 },
 "nbformat": 4,
 "nbformat_minor": 2
}
