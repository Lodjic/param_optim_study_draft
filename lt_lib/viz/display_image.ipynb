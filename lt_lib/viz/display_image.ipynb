{
 "cells": [
  {
   "cell_type": "markdown",
   "metadata": {},
   "source": [
    "# 1. Imports and variables"
   ]
  },
  {
   "cell_type": "code",
   "execution_count": null,
   "metadata": {},
   "outputs": [],
   "source": [
    "from pathlib import Path\n",
    "import random\n",
    "import sys\n",
    "\n",
    "from save_and_display_image import display_image_with_bboxes\n",
    "\n",
    "sys.path.insert(1,\"..\")\n",
    "\n",
    "from lt_lib.data.data_extraction import get_img_bboxes_from_csv\n",
    "\n",
    "%config InlineBackend.figure_format = 'retina'\n",
    "%load_ext autoreload\n",
    "%autoreload 2"
   ]
  },
  {
   "cell_type": "code",
   "execution_count": null,
   "metadata": {},
   "outputs": [],
   "source": [
    "LABEL_TO_LABEL_NAME = {\n",
    "    1: \"plane-civilSmall\",\n",
    "    2: \"plane-civilMedium\",\n",
    "    3: \"plane-civilLarge\",\n",
    "    4: \"plane-militaryTransport\",\n",
    "    5: \"plane-militaryBomber\",\n",
    "    6: \"plane-militaryFighter\",\n",
    "    7: \"plane-militaryTrainer\",\n",
    "}\n",
    "\n",
    "CSV_PATH = Path(\"/path/to/gts.csv\")\n",
    "img_path_list = list((CSV_PATH.parent.parent / \"imgs\").glob(\"*.png\"))\n"
   ]
  },
  {
   "cell_type": "markdown",
   "metadata": {},
   "source": [
    "# 2. Display chosen image"
   ]
  },
  {
   "cell_type": "code",
   "execution_count": null,
   "metadata": {},
   "outputs": [],
   "source": [
    "IMG_PATH = Path(\"/path/to/img.png\")\n",
    "\n",
    "bboxes, labels = get_img_bboxes_from_csv(CSV_PATH, IMG_PATH.name)\n",
    "label_names = [LABEL_TO_LABEL_NAME[label] for label in labels]\n",
    "\n",
    "display_image_with_bboxes(IMG_PATH, bboxes, BGR_color_bboxes=(0, 255, 0), texts=label_names, figsize=(15,10))"
   ]
  },
  {
   "cell_type": "markdown",
   "metadata": {},
   "source": [
    "# 3. Display random image"
   ]
  },
  {
   "cell_type": "code",
   "execution_count": null,
   "metadata": {},
   "outputs": [],
   "source": [
    "random_img_path = random.choice(img_path_list)\n",
    "bboxes, labels = get_img_bboxes_from_csv(CSV_PATH, random_img_path.name)\n",
    "label_names = [LABEL_TO_LABEL_NAME[label] for label in labels]\n",
    "\n",
    "display_image_with_bboxes(random_img_path, bboxes, BGR_color_bboxes=(0, 255, 0), texts=label_names, figsize=(9,9))"
   ]
  }
 ],
 "metadata": {
  "kernelspec": {
   "display_name": "segmentation_env",
   "language": "python",
   "name": "python3"
  },
  "language_info": {
   "codemirror_mode": {
    "name": "ipython",
    "version": 3
   },
   "file_extension": ".py",
   "mimetype": "text/x-python",
   "name": "python",
   "nbconvert_exporter": "python",
   "pygments_lexer": "ipython3",
   "version": "3.11.7"
  },
  "orig_nbformat": 4
 },
 "nbformat": 4,
 "nbformat_minor": 2
}
